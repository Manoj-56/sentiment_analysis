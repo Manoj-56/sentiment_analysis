{
 "cells": [
  {
   "cell_type": "markdown",
   "metadata": {},
   "source": [
    "## Importing Libraries"
   ]
  },
  {
   "cell_type": "code",
   "execution_count": 1,
   "metadata": {},
   "outputs": [],
   "source": [
    "import numpy as np\n",
    "import pandas as pd\n",
    "import matplotlib.pyplot as plt\n",
    "import seaborn as sns\n",
    "import nltk\n",
    "from nltk.corpus import stopwords\n",
    "from nltk.stem import PorterStemmer\n",
    "from nltk.tokenize import word_tokenize\n",
    "import string\n",
    "from sklearn.feature_extraction.text import CountVectorizer, TfidfVectorizer\n",
    "from sklearn.naive_bayes import GaussianNB\n",
    "from sklearn.metrics import accuracy_score, confusion_matrix, classification_report\n",
    "from sklearn.model_selection import train_test_split\n",
    "import tensorflow as tf\n",
    "from tensorflow.keras.models import Sequential\n",
    "from tensorflow.keras.layers import Dense, Flatten, Dropout, BatchNormalization"
   ]
  },
  {
   "cell_type": "markdown",
   "metadata": {},
   "source": [
    "### Loading Data"
   ]
  },
  {
   "cell_type": "code",
   "execution_count": 2,
   "metadata": {},
   "outputs": [
    {
     "data": {
      "text/html": [
       "<div>\n",
       "<style scoped>\n",
       "    .dataframe tbody tr th:only-of-type {\n",
       "        vertical-align: middle;\n",
       "    }\n",
       "\n",
       "    .dataframe tbody tr th {\n",
       "        vertical-align: top;\n",
       "    }\n",
       "\n",
       "    .dataframe thead th {\n",
       "        text-align: right;\n",
       "    }\n",
       "</style>\n",
       "<table border=\"1\" class=\"dataframe\">\n",
       "  <thead>\n",
       "    <tr style=\"text-align: right;\">\n",
       "      <th></th>\n",
       "      <th>textID</th>\n",
       "      <th>text</th>\n",
       "      <th>selected_text</th>\n",
       "      <th>sentiment</th>\n",
       "      <th>Time of Tweet</th>\n",
       "      <th>Age of User</th>\n",
       "      <th>Country</th>\n",
       "      <th>Population -2020</th>\n",
       "      <th>Land Area (Km²)</th>\n",
       "      <th>Density (P/Km²)</th>\n",
       "    </tr>\n",
       "  </thead>\n",
       "  <tbody>\n",
       "    <tr>\n",
       "      <th>0</th>\n",
       "      <td>cb774db0d1</td>\n",
       "      <td>I`d have responded, if I were going</td>\n",
       "      <td>I`d have responded, if I were going</td>\n",
       "      <td>neutral</td>\n",
       "      <td>morning</td>\n",
       "      <td>0-20</td>\n",
       "      <td>Afghanistan</td>\n",
       "      <td>38928346</td>\n",
       "      <td>652860.0</td>\n",
       "      <td>60</td>\n",
       "    </tr>\n",
       "    <tr>\n",
       "      <th>1</th>\n",
       "      <td>549e992a42</td>\n",
       "      <td>Sooo SAD I will miss you here in San Diego!!!</td>\n",
       "      <td>Sooo SAD</td>\n",
       "      <td>negative</td>\n",
       "      <td>noon</td>\n",
       "      <td>21-30</td>\n",
       "      <td>Albania</td>\n",
       "      <td>2877797</td>\n",
       "      <td>27400.0</td>\n",
       "      <td>105</td>\n",
       "    </tr>\n",
       "    <tr>\n",
       "      <th>2</th>\n",
       "      <td>088c60f138</td>\n",
       "      <td>my boss is bullying me...</td>\n",
       "      <td>bullying me</td>\n",
       "      <td>negative</td>\n",
       "      <td>night</td>\n",
       "      <td>31-45</td>\n",
       "      <td>Algeria</td>\n",
       "      <td>43851044</td>\n",
       "      <td>2381740.0</td>\n",
       "      <td>18</td>\n",
       "    </tr>\n",
       "    <tr>\n",
       "      <th>3</th>\n",
       "      <td>9642c003ef</td>\n",
       "      <td>what interview! leave me alone</td>\n",
       "      <td>leave me alone</td>\n",
       "      <td>negative</td>\n",
       "      <td>morning</td>\n",
       "      <td>46-60</td>\n",
       "      <td>Andorra</td>\n",
       "      <td>77265</td>\n",
       "      <td>470.0</td>\n",
       "      <td>164</td>\n",
       "    </tr>\n",
       "    <tr>\n",
       "      <th>4</th>\n",
       "      <td>358bd9e861</td>\n",
       "      <td>Sons of ****, why couldn`t they put them on t...</td>\n",
       "      <td>Sons of ****,</td>\n",
       "      <td>negative</td>\n",
       "      <td>noon</td>\n",
       "      <td>60-70</td>\n",
       "      <td>Angola</td>\n",
       "      <td>32866272</td>\n",
       "      <td>1246700.0</td>\n",
       "      <td>26</td>\n",
       "    </tr>\n",
       "  </tbody>\n",
       "</table>\n",
       "</div>"
      ],
      "text/plain": [
       "       textID                                               text  \\\n",
       "0  cb774db0d1                I`d have responded, if I were going   \n",
       "1  549e992a42      Sooo SAD I will miss you here in San Diego!!!   \n",
       "2  088c60f138                          my boss is bullying me...   \n",
       "3  9642c003ef                     what interview! leave me alone   \n",
       "4  358bd9e861   Sons of ****, why couldn`t they put them on t...   \n",
       "\n",
       "                         selected_text sentiment Time of Tweet Age of User  \\\n",
       "0  I`d have responded, if I were going   neutral       morning        0-20   \n",
       "1                             Sooo SAD  negative          noon       21-30   \n",
       "2                          bullying me  negative         night       31-45   \n",
       "3                       leave me alone  negative       morning       46-60   \n",
       "4                        Sons of ****,  negative          noon       60-70   \n",
       "\n",
       "       Country  Population -2020  Land Area (Km²)  Density (P/Km²)  \n",
       "0  Afghanistan          38928346         652860.0               60  \n",
       "1      Albania           2877797          27400.0              105  \n",
       "2      Algeria          43851044        2381740.0               18  \n",
       "3      Andorra             77265            470.0              164  \n",
       "4       Angola          32866272        1246700.0               26  "
      ]
     },
     "execution_count": 2,
     "metadata": {},
     "output_type": "execute_result"
    }
   ],
   "source": [
    "data = pd.read_csv('Amazon_Reviews.csv', encoding = 'unicode_escape')\n",
    "data.head()"
   ]
  },
  {
   "cell_type": "code",
   "execution_count": 3,
   "metadata": {},
   "outputs": [
    {
     "data": {
      "text/html": [
       "<div>\n",
       "<style scoped>\n",
       "    .dataframe tbody tr th:only-of-type {\n",
       "        vertical-align: middle;\n",
       "    }\n",
       "\n",
       "    .dataframe tbody tr th {\n",
       "        vertical-align: top;\n",
       "    }\n",
       "\n",
       "    .dataframe thead th {\n",
       "        text-align: right;\n",
       "    }\n",
       "</style>\n",
       "<table border=\"1\" class=\"dataframe\">\n",
       "  <thead>\n",
       "    <tr style=\"text-align: right;\">\n",
       "      <th></th>\n",
       "      <th>text</th>\n",
       "      <th>sentiment</th>\n",
       "    </tr>\n",
       "  </thead>\n",
       "  <tbody>\n",
       "    <tr>\n",
       "      <th>0</th>\n",
       "      <td>I`d have responded, if I were going</td>\n",
       "      <td>neutral</td>\n",
       "    </tr>\n",
       "    <tr>\n",
       "      <th>1</th>\n",
       "      <td>Sooo SAD I will miss you here in San Diego!!!</td>\n",
       "      <td>negative</td>\n",
       "    </tr>\n",
       "    <tr>\n",
       "      <th>2</th>\n",
       "      <td>my boss is bullying me...</td>\n",
       "      <td>negative</td>\n",
       "    </tr>\n",
       "    <tr>\n",
       "      <th>3</th>\n",
       "      <td>what interview! leave me alone</td>\n",
       "      <td>negative</td>\n",
       "    </tr>\n",
       "    <tr>\n",
       "      <th>4</th>\n",
       "      <td>Sons of ****, why couldn`t they put them on t...</td>\n",
       "      <td>negative</td>\n",
       "    </tr>\n",
       "  </tbody>\n",
       "</table>\n",
       "</div>"
      ],
      "text/plain": [
       "                                                text sentiment\n",
       "0                I`d have responded, if I were going   neutral\n",
       "1      Sooo SAD I will miss you here in San Diego!!!  negative\n",
       "2                          my boss is bullying me...  negative\n",
       "3                     what interview! leave me alone  negative\n",
       "4   Sons of ****, why couldn`t they put them on t...  negative"
      ]
     },
     "execution_count": 3,
     "metadata": {},
     "output_type": "execute_result"
    }
   ],
   "source": [
    "data = data[['text','sentiment']]\n",
    "data.head()"
   ]
  },
  {
   "cell_type": "code",
   "execution_count": 4,
   "metadata": {},
   "outputs": [
    {
     "data": {
      "text/plain": [
       "text         1\n",
       "sentiment    0\n",
       "dtype: int64"
      ]
     },
     "execution_count": 4,
     "metadata": {},
     "output_type": "execute_result"
    }
   ],
   "source": [
    "data.isna().sum()"
   ]
  },
  {
   "cell_type": "code",
   "execution_count": 5,
   "metadata": {},
   "outputs": [
    {
     "data": {
      "text/html": [
       "<div>\n",
       "<style scoped>\n",
       "    .dataframe tbody tr th:only-of-type {\n",
       "        vertical-align: middle;\n",
       "    }\n",
       "\n",
       "    .dataframe tbody tr th {\n",
       "        vertical-align: top;\n",
       "    }\n",
       "\n",
       "    .dataframe thead th {\n",
       "        text-align: right;\n",
       "    }\n",
       "</style>\n",
       "<table border=\"1\" class=\"dataframe\">\n",
       "  <thead>\n",
       "    <tr style=\"text-align: right;\">\n",
       "      <th></th>\n",
       "      <th>text</th>\n",
       "      <th>sentiment</th>\n",
       "    </tr>\n",
       "  </thead>\n",
       "  <tbody>\n",
       "    <tr>\n",
       "      <th>0</th>\n",
       "      <td>I`d have responded, if I were going</td>\n",
       "      <td>neutral</td>\n",
       "    </tr>\n",
       "    <tr>\n",
       "      <th>1</th>\n",
       "      <td>Sooo SAD I will miss you here in San Diego!!!</td>\n",
       "      <td>negative</td>\n",
       "    </tr>\n",
       "    <tr>\n",
       "      <th>2</th>\n",
       "      <td>my boss is bullying me...</td>\n",
       "      <td>negative</td>\n",
       "    </tr>\n",
       "    <tr>\n",
       "      <th>3</th>\n",
       "      <td>what interview! leave me alone</td>\n",
       "      <td>negative</td>\n",
       "    </tr>\n",
       "    <tr>\n",
       "      <th>4</th>\n",
       "      <td>Sons of ****, why couldn`t they put them on t...</td>\n",
       "      <td>negative</td>\n",
       "    </tr>\n",
       "  </tbody>\n",
       "</table>\n",
       "</div>"
      ],
      "text/plain": [
       "                                                text sentiment\n",
       "0                I`d have responded, if I were going   neutral\n",
       "1      Sooo SAD I will miss you here in San Diego!!!  negative\n",
       "2                          my boss is bullying me...  negative\n",
       "3                     what interview! leave me alone  negative\n",
       "4   Sons of ****, why couldn`t they put them on t...  negative"
      ]
     },
     "execution_count": 5,
     "metadata": {},
     "output_type": "execute_result"
    }
   ],
   "source": [
    "data.dropna(inplace = True)\n",
    "data.head()"
   ]
  },
  {
   "cell_type": "code",
   "execution_count": 6,
   "metadata": {},
   "outputs": [
    {
     "data": {
      "text/plain": [
       "neutral     11117\n",
       "positive     8582\n",
       "negative     7781\n",
       "Name: sentiment, dtype: int64"
      ]
     },
     "execution_count": 6,
     "metadata": {},
     "output_type": "execute_result"
    }
   ],
   "source": [
    "data['sentiment'].value_counts()"
   ]
  },
  {
   "cell_type": "code",
   "execution_count": 7,
   "metadata": {},
   "outputs": [
    {
     "data": {
      "text/html": [
       "<div>\n",
       "<style scoped>\n",
       "    .dataframe tbody tr th:only-of-type {\n",
       "        vertical-align: middle;\n",
       "    }\n",
       "\n",
       "    .dataframe tbody tr th {\n",
       "        vertical-align: top;\n",
       "    }\n",
       "\n",
       "    .dataframe thead th {\n",
       "        text-align: right;\n",
       "    }\n",
       "</style>\n",
       "<table border=\"1\" class=\"dataframe\">\n",
       "  <thead>\n",
       "    <tr style=\"text-align: right;\">\n",
       "      <th></th>\n",
       "      <th>text</th>\n",
       "      <th>sentiment</th>\n",
       "    </tr>\n",
       "  </thead>\n",
       "  <tbody>\n",
       "    <tr>\n",
       "      <th>0</th>\n",
       "      <td>I`d have responded, if I were going</td>\n",
       "      <td>1</td>\n",
       "    </tr>\n",
       "    <tr>\n",
       "      <th>1</th>\n",
       "      <td>Sooo SAD I will miss you here in San Diego!!!</td>\n",
       "      <td>0</td>\n",
       "    </tr>\n",
       "    <tr>\n",
       "      <th>2</th>\n",
       "      <td>my boss is bullying me...</td>\n",
       "      <td>0</td>\n",
       "    </tr>\n",
       "    <tr>\n",
       "      <th>3</th>\n",
       "      <td>what interview! leave me alone</td>\n",
       "      <td>0</td>\n",
       "    </tr>\n",
       "    <tr>\n",
       "      <th>4</th>\n",
       "      <td>Sons of ****, why couldn`t they put them on t...</td>\n",
       "      <td>0</td>\n",
       "    </tr>\n",
       "  </tbody>\n",
       "</table>\n",
       "</div>"
      ],
      "text/plain": [
       "                                                text  sentiment\n",
       "0                I`d have responded, if I were going          1\n",
       "1      Sooo SAD I will miss you here in San Diego!!!          0\n",
       "2                          my boss is bullying me...          0\n",
       "3                     what interview! leave me alone          0\n",
       "4   Sons of ****, why couldn`t they put them on t...          0"
      ]
     },
     "execution_count": 7,
     "metadata": {},
     "output_type": "execute_result"
    }
   ],
   "source": [
    "data['sentiment'].replace(['negative','neutral','positive'],[0,1,2],inplace = True)\n",
    "data.head()"
   ]
  },
  {
   "cell_type": "code",
   "execution_count": 8,
   "metadata": {},
   "outputs": [
    {
     "name": "stderr",
     "output_type": "stream",
     "text": [
      "c:\\users\\manoj\\appdata\\local\\programs\\python\\python37\\lib\\site-packages\\seaborn\\_decorators.py:43: FutureWarning: Pass the following variable as a keyword arg: x. From version 0.12, the only valid positional argument will be `data`, and passing other arguments without an explicit keyword will result in an error or misinterpretation.\n",
      "  FutureWarning\n"
     ]
    },
    {
     "data": {
      "image/png": "[encoded data removed]",
      "text/plain": [
       "<Figure size 432x288 with 1 Axes>"
      ]
     },
     "metadata": {
      "needs_background": "light"
     },
     "output_type": "display_data"
    }
   ],
   "source": [
    "sns.countplot(data['sentiment'])\n",
    "plt.show()"
   ]
  },
  {
   "cell_type": "markdown",
   "metadata": {},
   "source": [
    "## Text Preprocessing"
   ]
  },
  {
   "cell_type": "markdown",
   "metadata": {},
   "source": [
    "#### Changing to lowercase and removing Punctuations "
   ]
  },
  {
   "cell_type": "code",
   "execution_count": 9,
   "metadata": {},
   "outputs": [],
   "source": [
    "text_data = []\n",
    "x = data['text'].replace('[^a-zA-z]',' ',regex = True)\n",
    "x = x.values\n",
    "for text in x:\n",
    "    lower_case = text.lower()\n",
    "    cleaned_text = lower_case.translate(str.maketrans('','',string.punctuation))\n",
    "    text_data.append(cleaned_text)\n"
   ]
  },
  {
   "cell_type": "markdown",
   "metadata": {},
   "source": [
    "#### Removing Stopwords and Stemming"
   ]
  },
  {
   "cell_type": "code",
   "execution_count": 10,
   "metadata": {},
   "outputs": [],
   "source": [
    "stemmer=PorterStemmer()\n",
    "stemmed_data = []\n",
    "for i in text_data:\n",
    "    words=word_tokenize(i)\n",
    "    #List comprehension\n",
    "    words=[stemmer.stem(word) for word in words if word not in set(stopwords.words('english'))]\n",
    "    words = ' '.join(words)\n",
    "    stemmed_data.append(words)\n",
    "stemmed_data = [text for text in stemmed_data if text != []]\n"
   ]
  },
  {
   "cell_type": "code",
   "execution_count": 11,
   "metadata": {},
   "outputs": [
    {
     "data": {
      "text/plain": [
       "['id respond go',\n",
       " 'sooo sad miss san diego',\n",
       " 'boss bulli',\n",
       " 'interview leav alon',\n",
       " 'son couldnt put releas alreadi bought']"
      ]
     },
     "execution_count": 11,
     "metadata": {},
     "output_type": "execute_result"
    }
   ],
   "source": [
    " stemmed_data[:5]"
   ]
  },
  {
   "cell_type": "markdown",
   "metadata": {},
   "source": [
    "### Creating CountVectorizer "
   ]
  },
  {
   "cell_type": "code",
   "execution_count": 12,
   "metadata": {},
   "outputs": [],
   "source": [
    "count_vectorizer = CountVectorizer(max_features = 1500)\n",
    "train_cv = count_vectorizer.fit_transform(stemmed_data).toarray()"
   ]
  },
  {
   "cell_type": "markdown",
   "metadata": {},
   "source": [
    "### Tf-idf Vectorizer"
   ]
  },
  {
   "cell_type": "code",
   "execution_count": 13,
   "metadata": {},
   "outputs": [],
   "source": [
    "tfidf_vectorizer = TfidfVectorizer(max_features = 1500)\n",
    "train_tfidf = tfidf_vectorizer.fit_transform(stemmed_data).toarray()"
   ]
  },
  {
   "cell_type": "code",
   "execution_count": 14,
   "metadata": {},
   "outputs": [
    {
     "name": "stdout",
     "output_type": "stream",
     "text": [
      "1500\n",
      "1500\n"
     ]
    }
   ],
   "source": [
    "print(len(count_vectorizer.get_feature_names()))\n",
    "print(len(tfidf_vectorizer.get_feature_names()))\n"
   ]
  },
  {
   "cell_type": "markdown",
   "metadata": {},
   "source": [
    "### Spliting Data"
   ]
  },
  {
   "cell_type": "code",
   "execution_count": 15,
   "metadata": {},
   "outputs": [],
   "source": [
    "x_cv = train_cv\n",
    "x_tfidf = train_tfidf\n",
    "y = data['sentiment']\n",
    "x_train,x_test,y_train,y_test = train_test_split(x_cv,y, test_size = 0.3)\n",
    "x1_train,x1_test,y1_train,y1_test = train_test_split(x_tfidf,y, test_size = 0.3)\n"
   ]
  },
  {
   "cell_type": "markdown",
   "metadata": {},
   "source": [
    "## Creating Model With RandomForestClassifier"
   ]
  },
  {
   "cell_type": "markdown",
   "metadata": {},
   "source": [
    "### For CountVectorizer"
   ]
  },
  {
   "cell_type": "code",
   "execution_count": 16,
   "metadata": {},
   "outputs": [],
   "source": [
    "from sklearn.ensemble import RandomForestClassifier\n",
    "model = RandomForestClassifier(n_estimators = 300, n_jobs = 5)\n",
    "model.fit(x_train,y_train)\n",
    "predict = model.predict(x_test)"
   ]
  },
  {
   "cell_type": "code",
   "execution_count": 17,
   "metadata": {},
   "outputs": [
    {
     "name": "stdout",
     "output_type": "stream",
     "text": [
      "accuracy_score: 69.80834546336729 %\n",
      "confusion_matrix: [[1500  478  120]\n",
      " [ 648 2234  465]\n",
      " [ 218  560 2021]]\n",
      "classification_report:               precision    recall  f1-score   support\n",
      "\n",
      "           0       0.63      0.71      0.67      2098\n",
      "           1       0.68      0.67      0.68      3347\n",
      "           2       0.78      0.72      0.75      2799\n",
      "\n",
      "    accuracy                           0.70      8244\n",
      "   macro avg       0.70      0.70      0.70      8244\n",
      "weighted avg       0.70      0.70      0.70      8244\n",
      "\n"
     ]
    }
   ],
   "source": [
    "print('accuracy_score:',accuracy_score(predict,y_test)*100,'%')\n",
    "print('confusion_matrix:',confusion_matrix(predict,y_test))\n",
    "print('classification_report:',classification_report(predict,y_test))"
   ]
  },
  {
   "cell_type": "markdown",
   "metadata": {},
   "source": [
    "### For Tf-idf Vectorizer"
   ]
  },
  {
   "cell_type": "code",
   "execution_count": 18,
   "metadata": {},
   "outputs": [],
   "source": [
    "from sklearn.ensemble import RandomForestClassifier\n",
    "model1 = RandomForestClassifier(n_estimators = 300, n_jobs = 5)\n",
    "model1.fit(x1_train,y1_train)\n",
    "predict1 = model.predict(x1_test)"
   ]
  },
  {
   "cell_type": "code",
   "execution_count": 19,
   "metadata": {},
   "outputs": [
    {
     "name": "stdout",
     "output_type": "stream",
     "text": [
      "accuracy_score: 53.77244056283358 %\n",
      "confusion_matrix: [[ 721  196  117]\n",
      " [1562 3064 1743]\n",
      " [  67  126  648]]\n",
      "classification_report:               precision    recall  f1-score   support\n",
      "\n",
      "           0       0.31      0.70      0.43      1034\n",
      "           1       0.90      0.48      0.63      6369\n",
      "           2       0.26      0.77      0.39       841\n",
      "\n",
      "    accuracy                           0.54      8244\n",
      "   macro avg       0.49      0.65      0.48      8244\n",
      "weighted avg       0.76      0.54      0.58      8244\n",
      "\n"
     ]
    }
   ],
   "source": [
    "print('accuracy_score:',accuracy_score(predict1,y1_test)*100,'%')\n",
    "print('confusion_matrix:',confusion_matrix(predict1,y1_test))\n",
    "print('classification_report:',classification_report(predict1,y1_test))"
   ]
  },
  {
   "cell_type": "markdown",
   "metadata": {},
   "source": [
    "## Trying With Neural Networks for better results "
   ]
  },
  {
   "cell_type": "markdown",
   "metadata": {},
   "source": [
    "#### For CountVectorizer"
   ]
  },
  {
   "cell_type": "code",
   "execution_count": 20,
   "metadata": {},
   "outputs": [
    {
     "name": "stdout",
     "output_type": "stream",
     "text": [
      "(19236, 1500, 1) (8244, 1500, 1)\n"
     ]
    }
   ],
   "source": [
    "# Reshaping the x_train and x_test\n",
    "\n",
    "x_train = x_train.reshape(x_train.shape[0],1500,1)\n",
    "x_test = x_test.reshape(x_test.shape[0],1500,1)\n",
    "\n",
    "print(x_train.shape, x_test.shape)"
   ]
  },
  {
   "cell_type": "code",
   "execution_count": 21,
   "metadata": {},
   "outputs": [],
   "source": [
    "# Creating Model \n",
    "ann_model = Sequential([Flatten(input_shape = (1500,1)),\n",
    "                       Dense(128, activation = 'relu'),\n",
    "                       Dense(100, activation = 'relu'),\n",
    "                       Dense(126, activation = 'relu'),\n",
    "                       Dense(100, activation = 'relu'),\n",
    "                       Dropout((0.2)),\n",
    "                       Dense(126, activation = 'relu'),\n",
    "                       Dense(64, activation = 'relu'),\n",
    "                       Dropout((0.2)),\n",
    "                       Dense(32, activation = 'relu'),\n",
    "                       Dense(3, activation = 'softmax')])\n",
    "callback = tf.keras.callbacks.EarlyStopping(monitor='loss', patience=3)"
   ]
  },
  {
   "cell_type": "code",
   "execution_count": 22,
   "metadata": {},
   "outputs": [
    {
     "name": "stdout",
     "output_type": "stream",
     "text": [
      "Model: \"sequential\"\n",
      "_________________________________________________________________\n",
      "Layer (type)                 Output Shape              Param #   \n",
      "=================================================================\n",
      "flatten (Flatten)            (None, 1500)              0         \n",
      "_________________________________________________________________\n",
      "dense (Dense)                (None, 128)               192128    \n",
      "_________________________________________________________________\n",
      "dense_1 (Dense)              (None, 100)               12900     \n",
      "_________________________________________________________________\n",
      "dense_2 (Dense)              (None, 126)               12726     \n",
      "_________________________________________________________________\n",
      "dense_3 (Dense)              (None, 100)               12700     \n",
      "_________________________________________________________________\n",
      "dropout (Dropout)            (None, 100)               0         \n",
      "_________________________________________________________________\n",
      "dense_4 (Dense)              (None, 126)               12726     \n",
      "_________________________________________________________________\n",
      "dense_5 (Dense)              (None, 64)                8128      \n",
      "_________________________________________________________________\n",
      "dropout_1 (Dropout)          (None, 64)                0         \n",
      "_________________________________________________________________\n",
      "dense_6 (Dense)              (None, 32)                2080      \n",
      "_________________________________________________________________\n",
      "dense_7 (Dense)              (None, 3)                 99        \n",
      "=================================================================\n",
      "Total params: 253,487\n",
      "Trainable params: 253,487\n",
      "Non-trainable params: 0\n",
      "_________________________________________________________________\n"
     ]
    }
   ],
   "source": [
    "ann_model.compile(optimizer = 'adam',\n",
    "                             loss = 'sparse_categorical_crossentropy',\n",
    "                             metrics = ['accuracy'])\n",
    "ann_model.summary()"
   ]
  },
  {
   "cell_type": "code",
   "execution_count": 24,
   "metadata": {},
   "outputs": [
    {
     "name": "stdout",
     "output_type": "stream",
     "text": [
      "Epoch 1/50\n",
      "610/610 [==============================] - 5s 7ms/step - loss: 0.1968 - accuracy: 0.9297 - val_loss: 1.7229 - val_accuracy: 0.6247\n",
      "Epoch 2/50\n",
      "610/610 [==============================] - 4s 7ms/step - loss: 0.1517 - accuracy: 0.9412 - val_loss: 1.9249 - val_accuracy: 0.6299\n",
      "Epoch 3/50\n",
      "610/610 [==============================] - 4s 7ms/step - loss: 0.1314 - accuracy: 0.9497 - val_loss: 2.0108 - val_accuracy: 0.6247\n",
      "Epoch 4/50\n",
      "610/610 [==============================] - 5s 8ms/step - loss: 0.1198 - accuracy: 0.9544 - val_loss: 2.0548 - val_accuracy: 0.6154\n",
      "Epoch 5/50\n",
      "610/610 [==============================] - 4s 7ms/step - loss: 0.1102 - accuracy: 0.9569 - val_loss: 2.4039 - val_accuracy: 0.6195\n",
      "Epoch 6/50\n",
      "610/610 [==============================] - 4s 6ms/step - loss: 0.1023 - accuracy: 0.9614 - val_loss: 2.9249 - val_accuracy: 0.6175\n",
      "Epoch 7/50\n",
      "610/610 [==============================] - 4s 6ms/step - loss: 0.0935 - accuracy: 0.9675 - val_loss: 3.1708 - val_accuracy: 0.6040\n",
      "Epoch 8/50\n",
      "610/610 [==============================] - 4s 6ms/step - loss: 0.0913 - accuracy: 0.9704 - val_loss: 3.0562 - val_accuracy: 0.5873\n",
      "Epoch 9/50\n",
      "610/610 [==============================] - 4s 6ms/step - loss: 0.0863 - accuracy: 0.9722 - val_loss: 3.1664 - val_accuracy: 0.5800\n",
      "Epoch 10/50\n",
      "610/610 [==============================] - 4s 6ms/step - loss: 0.0769 - accuracy: 0.9748 - val_loss: 3.1228 - val_accuracy: 0.5780\n",
      "Epoch 11/50\n",
      "610/610 [==============================] - 4s 6ms/step - loss: 0.0737 - accuracy: 0.9762 - val_loss: 3.5769 - val_accuracy: 0.5852\n",
      "Epoch 12/50\n",
      "610/610 [==============================] - 4s 6ms/step - loss: 0.0766 - accuracy: 0.9771 - val_loss: 4.5129 - val_accuracy: 0.5936\n",
      "Epoch 13/50\n",
      "610/610 [==============================] - 4s 6ms/step - loss: 0.0772 - accuracy: 0.9764 - val_loss: 4.6853 - val_accuracy: 0.5915\n",
      "Epoch 14/50\n",
      "610/610 [==============================] - 4s 7ms/step - loss: 0.0733 - accuracy: 0.9765 - val_loss: 3.2375 - val_accuracy: 0.5873\n",
      "Epoch 15/50\n",
      "610/610 [==============================] - 4s 6ms/step - loss: 0.0660 - accuracy: 0.9785 - val_loss: 4.5025 - val_accuracy: 0.6008\n",
      "Epoch 16/50\n",
      "610/610 [==============================] - 4s 6ms/step - loss: 0.0666 - accuracy: 0.9783 - val_loss: 4.3080 - val_accuracy: 0.5967\n",
      "Epoch 17/50\n",
      "610/610 [==============================] - 4s 6ms/step - loss: 0.0695 - accuracy: 0.9785 - val_loss: 4.5307 - val_accuracy: 0.6008\n",
      "Epoch 18/50\n",
      "610/610 [==============================] - 4s 6ms/step - loss: 0.0602 - accuracy: 0.9784 - val_loss: 4.9018 - val_accuracy: 0.5842\n",
      "Epoch 19/50\n",
      "610/610 [==============================] - 4s 6ms/step - loss: 0.0604 - accuracy: 0.9788 - val_loss: 5.2892 - val_accuracy: 0.5988\n",
      "Epoch 20/50\n",
      "610/610 [==============================] - 4s 6ms/step - loss: 0.0564 - accuracy: 0.9796 - val_loss: 7.8628 - val_accuracy: 0.5915\n",
      "Epoch 21/50\n",
      "610/610 [==============================] - 4s 6ms/step - loss: 0.0552 - accuracy: 0.9799 - val_loss: 7.3878 - val_accuracy: 0.5842\n",
      "Epoch 22/50\n",
      "610/610 [==============================] - 4s 6ms/step - loss: 0.0826 - accuracy: 0.9789 - val_loss: 7.6897 - val_accuracy: 0.6008\n",
      "Epoch 23/50\n",
      "610/610 [==============================] - 4s 7ms/step - loss: 0.0539 - accuracy: 0.9806 - val_loss: 7.4482 - val_accuracy: 0.5790\n",
      "Epoch 24/50\n",
      "610/610 [==============================] - 4s 6ms/step - loss: 0.0563 - accuracy: 0.9803 - val_loss: 6.7084 - val_accuracy: 0.5894\n",
      "Epoch 25/50\n",
      "610/610 [==============================] - 4s 6ms/step - loss: 0.0577 - accuracy: 0.9797 - val_loss: 6.8908 - val_accuracy: 0.5915\n",
      "Epoch 26/50\n",
      "610/610 [==============================] - 4s 6ms/step - loss: 0.0578 - accuracy: 0.9806 - val_loss: 6.3876 - val_accuracy: 0.5904\n"
     ]
    }
   ],
   "source": [
    "epochs = ann_model.fit(x_train,y_train, epochs = 50, verbose = 1, batch_size = 30, validation_split = 0.05, callbacks = [callback])"
   ]
  },
  {
   "cell_type": "code",
   "execution_count": 25,
   "metadata": {},
   "outputs": [],
   "source": [
    "pre = ann_model.predict(x_test)\n",
    "vals = []\n",
    "for i in pre:\n",
    "  vals.append(np.argmax(i))"
   ]
  },
  {
   "cell_type": "code",
   "execution_count": 26,
   "metadata": {},
   "outputs": [],
   "source": [
    "#Saving history\n",
    "history = epochs.history"
   ]
  },
  {
   "cell_type": "code",
   "execution_count": 27,
   "metadata": {},
   "outputs": [
    {
     "data": {
      "image/png": "[encoded data removed]",
      "text/plain": [
       "<Figure size 1080x360 with 2 Axes>"
      ]
     },
     "metadata": {
      "needs_background": "light"
     },
     "output_type": "display_data"
    }
   ],
   "source": [
    "#Plotting the Loss & Val_Loss , Accuracy & Val_Accuracy\n",
    "plt.figure(figsize = (15,5)),\n",
    "plt.subplot(1,2,1)\n",
    "plt.plot(history['loss'], color = 'r')\n",
    "plt.plot(history['val_loss'], color = 'g')\n",
    "plt.title('Loss and Val_Loss', size = 15,color = 'blue')\n",
    "plt.legend(['Loss','Val_Loss'])\n",
    "\n",
    "plt.subplot(1,2,2)\n",
    "plt.plot(history['accuracy'], color = 'r')\n",
    "plt.plot(history['val_accuracy'], color = 'g')\n",
    "plt.title('Accuracy and Val_Accuracy', size = 15, color = 'blue')\n",
    "plt.tight_layout()\n",
    "plt.legend(['Accuracy','Val_Accuracy'])\n",
    "plt.show()"
   ]
  },
  {
   "cell_type": "code",
   "execution_count": null,
   "metadata": {},
   "outputs": [],
   "source": []
  },
  {
   "cell_type": "code",
   "execution_count": null,
   "metadata": {},
   "outputs": [],
   "source": [
    "  "
   ]
  }
 ],
 "metadata": {
  "kernelspec": {
   "display_name": "Python 3",
   "language": "python",
   "name": "python3"
  },
  "language_info": {
   "codemirror_mode": {
    "name": "ipython",
    "version": 3
   },
   "file_extension": ".py",
   "mimetype": "text/x-python",
   "name": "python",
   "nbconvert_exporter": "python",
   "pygments_lexer": "ipython3",
   "version": "3.7.6"
  }
 },
 "nbformat": 4,
 "nbformat_minor": 4
}
